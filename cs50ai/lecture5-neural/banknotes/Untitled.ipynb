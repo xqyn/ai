{
 "cells": [
  {
   "cell_type": "code",
   "execution_count": null,
   "id": "2c518083-5b5f-435a-bd97-2d354fe64678",
   "metadata": {},
   "outputs": [],
   "source": [
    "import csv\n",
    "import tensorflow as tf\n",
    "\n",
    "from sklearn.model_selection import train_test_split"
   ]
  },
  {
   "cell_type": "code",
   "execution_count": 1,
   "id": "a46c81d8-a0da-4f4d-ba18-5aef01736249",
   "metadata": {},
   "outputs": [
    {
     "name": "stdout",
     "output_type": "stream",
     "text": [
      "\n",
      "     active environment : /exports/ana-scarlab/xqnguyen/bin/.conda/envs/sc\n",
      "    active env location : /exports/ana-scarlab/xqnguyen/bin/.conda/envs/sc\n",
      "            shell level : 1\n",
      "       user config file : /home/xqnguyen/.condarc\n",
      " populated config files : \n",
      "          conda version : 23.3.1\n",
      "    conda-build version : not installed\n",
      "         python version : 3.10.10.final.0\n",
      "       virtual packages : __archspec=1=x86_64\n",
      "                          __glibc=2.28=0\n",
      "                          __linux=4.18.0=0\n",
      "                          __unix=0=0\n",
      "       base environment : /share/software/tools/miniconda/3.10/23.3.1  (read only)\n",
      "      conda av data dir : /share/software/tools/miniconda/3.10/23.3.1/etc/conda\n",
      "  conda av metadata url : None\n",
      "           channel URLs : https://repo.anaconda.com/pkgs/main/linux-64\n",
      "                          https://repo.anaconda.com/pkgs/main/noarch\n",
      "                          https://repo.anaconda.com/pkgs/r/linux-64\n",
      "                          https://repo.anaconda.com/pkgs/r/noarch\n",
      "          package cache : /share/software/tools/miniconda/3.10/23.3.1/pkgs\n",
      "                          /home/xqnguyen/.conda/pkgs\n",
      "       envs directories : /home/xqnguyen/.conda/envs\n",
      "                          /share/software/tools/miniconda/3.10/23.3.1/envs\n",
      "               platform : linux-64\n",
      "             user-agent : conda/23.3.1 requests/2.29.0 CPython/3.10.10 Linux/4.18.0-477.27.1.el8_8.x86_64 rocky/8.9 glibc/2.28\n",
      "                UID:GID : 306749:513\n",
      "             netrc file : None\n",
      "           offline mode : False\n",
      "\n"
     ]
    }
   ],
   "source": []
  },
  {
   "cell_type": "code",
   "execution_count": null,
   "id": "7472ad70-eee8-4690-a582-1168a103bcee",
   "metadata": {},
   "outputs": [],
   "source": []
  }
 ],
 "metadata": {
  "kernelspec": {
   "display_name": "Python 3 (ipykernel)",
   "language": "python",
   "name": "python3"
  },
  "language_info": {
   "codemirror_mode": {
    "name": "ipython",
    "version": 3
   },
   "file_extension": ".py",
   "mimetype": "text/x-python",
   "name": "python",
   "nbconvert_exporter": "python",
   "pygments_lexer": "ipython3",
   "version": "3.11.7"
  }
 },
 "nbformat": 4,
 "nbformat_minor": 5
}
